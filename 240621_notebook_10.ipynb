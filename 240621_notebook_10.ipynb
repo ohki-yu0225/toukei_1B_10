{
  "cells": [
    {
      "cell_type": "markdown",
      "metadata": {
        "id": "view-in-github",
        "colab_type": "text"
      },
      "source": [
        "<a href=\"https://colab.research.google.com/github/ohki-yu0225/toukei_1B_10/blob/main/240621_notebook_10.ipynb\" target=\"_parent\"><img src=\"https://colab.research.google.com/assets/colab-badge.svg\" alt=\"Open In Colab\"/></a>"
      ]
    },
    {
      "cell_type": "markdown",
      "metadata": {
        "id": "xQ9u4numDySw"
      },
      "source": [
        "# 統計学実習 IB 第 10 回\n"
      ]
    },
    {
      "cell_type": "markdown",
      "metadata": {
        "id": "bH-qBFnXDySy"
      },
      "source": [
        "# Statistics Practice IB 10th\n"
      ]
    },
    {
      "cell_type": "code",
      "execution_count": null,
      "metadata": {
        "id": "DRmqhqUGDySy"
      },
      "outputs": [],
      "source": [
        "!pip install japanize_matplotlib\n",
        "import pandas as pd\n",
        "import numpy as np\n",
        "import matplotlib.pyplot as plt\n",
        "import japanize_matplotlib\n",
        "from scipy import stats"
      ]
    },
    {
      "cell_type": "markdown",
      "metadata": {
        "id": "7oM0KOJDDySy"
      },
      "source": [
        "## scipy.stats の使い方\n",
        "\n",
        "`scipy.stats`は確率分布を生成するためのライブラリである。確率分布の種類とパラメータを決めれば、それらに対応した確率分布を生成する。`stats`の確率分布は共通のメソッドを持っており、生成した確率分布から確率密度関数[連続値](pdf)、確率質量関数[離散値](pmf)、や累積分布関数(cdf)、平均値(mean)、分散(var)、標準偏差(std)などを計算できる。\n",
        "\n",
        "---\n",
        "\n",
        "```python\n",
        "ベルヌーイ分布 rv = stats.bernouli(p) #pは着目している事象の生起確率\n",
        "二項分布 rv = binom(n, p) #nは試行回数、pは着目している事象の生起確率\n",
        "ポアソン分布 stats.poisson(mu) #muは着目している事象の単位時間当たりの平均生起回数\n",
        "確率密度関数 rv.pdf(x)\n",
        "確率質量関数 rv.pmf(x)\n",
        "累積分布関数 rv.cdf(x)\n",
        "平均値 rv.mean()\n",
        "分散 rv.var()\n",
        "標準偏差 rv.std()\n",
        "```\n",
        "\n",
        "---\n"
      ]
    },
    {
      "cell_type": "markdown",
      "metadata": {
        "id": "0ht_PLP4DySy"
      },
      "source": [
        "## How to use scipy.stats\n",
        "\n",
        "`scipy.stats` is a library for generating probability distributions. You can specify the type of probability distribution and parameters, and it generates probability distributions corresponding to them. The probability distributions in `stats` have common methods to calculate probability density function [continuous value] (pdf), probability mass function [discrete value] (pmf), cumulative distribution function (cdf), mean (mean), variance (var), standard deviation (std), and so on from the generated probability distributions.\n",
        "\n",
        "---\n",
        "\n",
        "```Python\n",
        "Bernoulli distribution rv = stats.bernouli(p) #p is the probability of occurrence of the event\n",
        "Binomial distribution rv = stats.binom(n, p) #n is the number of trials, p is the probability of occurrence of the event\n",
        "Poisson distribution rv = stats.poisson(mu) #mu is the average number of occurrences per unit time of the event\n",
        "Probability density function rv.pdf(x)\n",
        "Probability mass function rv.pmf(x)\n",
        "Cumulative distribution function rv.cdf(x)\n",
        "Mean rv.mean()\n",
        "Variance rv.var()\n",
        "standard deviation rv.std()\n",
        "```\n",
        "\n",
        "---\n"
      ]
    },
    {
      "cell_type": "markdown",
      "metadata": {
        "id": "UJPQ61bGDySz"
      },
      "source": [
        "## ベルヌーイ分布\n"
      ]
    },
    {
      "cell_type": "markdown",
      "metadata": {
        "id": "F8L1UfOTDySz"
      },
      "source": [
        "## Bernoulli distribution\n"
      ]
    },
    {
      "cell_type": "code",
      "execution_count": null,
      "metadata": {
        "id": "PJRVUHazDySz"
      },
      "outputs": [],
      "source": [
        "# コインを1度トスしたときに表が出る確率を表すベルヌーイ分布を生成する。\n",
        "# Generate a Bernoulli distribution representing the probability that a coin shows a face when tossed once.\n",
        "p = 1 / 2\n",
        "rv = stats.bernoulli(p)"
      ]
    },
    {
      "cell_type": "code",
      "execution_count": null,
      "metadata": {
        "id": "lVpNX9rRDySz"
      },
      "outputs": [],
      "source": [
        "# ベルヌーイ分布の確率質量関数を図示する。\n",
        "# Illustrate the probability mass function of the Bernoulli distribution.\n",
        "x_set = np.arange(\n",
        "    0, 2\n",
        ")  # 確率変数の範囲は[0,1]/The range of the stochastic variable is [0,1]\n",
        "plt.plot(x_set, rv.pmf(x_set), \"bo\")\n",
        "plt.vlines(x_set, 0, rv.pmf(x_set), colors=\"b\")\n",
        "plt.ylabel(\"確率\")\n",
        "plt.xlabel(\"表裏\")"
      ]
    },
    {
      "cell_type": "code",
      "execution_count": null,
      "metadata": {
        "id": "W_4LcTcJDySz"
      },
      "outputs": [],
      "source": [
        "# ベルヌーイ分布の平均値、分散、標準偏差を計算する。\n",
        "# Calculate the mean, variance, and standard deviation of the Bernoulli distribution.\n",
        "mean = rv.mean()\n",
        "var = rv.var()\n",
        "std = rv.std()\n",
        "print(f\"平均値：{mean}\")\n",
        "print(f\"分散：{var}\")\n",
        "print(f\"標準偏差{std}\")"
      ]
    },
    {
      "cell_type": "code",
      "execution_count": null,
      "metadata": {
        "id": "9oaLD6SQDyS0"
      },
      "outputs": [],
      "source": [
        "# 練習1 コインを1000回投げる試行を行った結果を出力する。\n",
        "# Exercise 1 Output the results of 1000 coin tossing trials.\n"
      ]
    },
    {
      "cell_type": "code",
      "execution_count": null,
      "metadata": {
        "id": "Lv4_EAzxDyS0"
      },
      "outputs": [],
      "source": [
        "# 練習2 表裏のヒストグラムを図示し、`stats`で生成した確率分布の確率質量関数と比較する。\n",
        "# Exercise 2 Illustrate the histograms of the two sides of a coin and compare them to\n",
        "# the probability mass function of the probability distribution generated by the `stats`.\n",
        "\n",
        "# 　--- 変更しない/No change ---\n",
        "plt.plot(x_set, rv.pmf(x_set), \"bo\")\n",
        "plt.vlines(x_set, 0, rv.pmf(x_set), colors=\"b\")\n",
        "bins = np.arange(0, 3) - 0.5\n",
        "# 　--- 変更しない/No change ---\n",
        "\n",
        "# ここにヒストグラムを作成するコードを記述する\n",
        "# Write the code to create the histogram here\n"
      ]
    },
    {
      "cell_type": "markdown",
      "metadata": {
        "id": "g8f6vKRCDyS0"
      },
      "source": [
        "## 二項分布\n"
      ]
    },
    {
      "cell_type": "code",
      "execution_count": null,
      "metadata": {
        "id": "0XITbBeIDyS0"
      },
      "outputs": [],
      "source": [
        "# 練習3 サイコロを10回振ったときに1が出る回数を表す二項分布を生成する（n=10, p=1/6の二項分布を生成する）。\n",
        "# Exercise 3 Generate a binomial distribution representing the number of times a dice roll yields 1 when rolled 10 times (n=10, p=1/6).\n"
      ]
    },
    {
      "cell_type": "code",
      "execution_count": null,
      "metadata": {
        "id": "Z9gz3IRyDyS1"
      },
      "outputs": [],
      "source": [
        "# 練習4 二項分布の確率質量関数を図示する。\n",
        "# Exercise 4 Illustrate the probability mass function of the binomial distribution.\n"
      ]
    },
    {
      "cell_type": "code",
      "execution_count": null,
      "metadata": {
        "id": "zy4D9pCqDyS1"
      },
      "outputs": [],
      "source": [
        "# 練習5 二項分布の平均値、分散、標準偏差を計算する。\n",
        "# Exercise 5 Calculate the mean, variance, and standard deviation of the binomial distribution.\n"
      ]
    },
    {
      "cell_type": "code",
      "execution_count": null,
      "metadata": {
        "id": "LDYzYuksDyS1"
      },
      "outputs": [],
      "source": [
        "# サイコロを10回振る試行を1000回行い、1が出た回数を記録する\n",
        "# Perform 1000 trials of 10 rolls of the dice and record the number of times a 1 is rolled.\n",
        "num_trial2 = 1000\n",
        "dice = [1, 2, 3, 4, 5, 6]\n",
        "prob = [1 / 6, 1 / 6, 1 / 6, 1 / 6, 1 / 6, 1 / 6]\n",
        "x = []\n",
        "for i in range(0, num_trial2):\n",
        "    temp = np.random.choice(dice, p=prob, size=10)\n",
        "    temp = np.sum(temp == 1)\n",
        "    x.append(temp)\n",
        "print(x)"
      ]
    },
    {
      "cell_type": "code",
      "execution_count": null,
      "metadata": {
        "id": "jriMB2o5DyS1"
      },
      "outputs": [],
      "source": [
        "# 練習6 1が出た回数のヒストグラムを図示し、`stats`で生成した確率分布の確率質量関数と比較する。\n",
        "# Exercise 6 Illustrate the histogram of the number of times a 1 was obtained and compare it to\n",
        "# the probability mass function of the probability distribution generated by the `stats`.\n",
        "\n",
        "# 　--- 変更しない/No change ---\n",
        "bins = np.arange(0, 11) - 0.5\n",
        "# 　--- 変更しない/No change ---\n",
        "\n",
        "# ここに確率質量関数をプロットするコードを記述する（練習4と同じ）\n",
        "# Write code to plot the probability mass function here (same as in Exercise 4)\n",
        "\n",
        "\n",
        "# ここにヒストグラムを作成するコードを記述する\n",
        "# Write the code to create the histogram here\n"
      ]
    },
    {
      "cell_type": "code",
      "execution_count": null,
      "metadata": {
        "id": "1e1AFH2jDyS1"
      },
      "outputs": [],
      "source": [
        "# 複数の条件で二項分布を生成する。\n",
        "# Generate binomial distribution with multiple conditions.\n",
        "n = 10\n",
        "p1 = 1 / 6\n",
        "p2 = 1 / 3\n",
        "p3 = 1 / 2\n",
        "rv1 = stats.binom(n, p1)\n",
        "rv2 = stats.binom(n, p2)\n",
        "rv3 = stats.binom(n, p3)"
      ]
    },
    {
      "cell_type": "code",
      "execution_count": null,
      "metadata": {
        "id": "RITZMHXWDyS2"
      },
      "outputs": [],
      "source": [
        "# 生成した二項分布の確率質量関数を図示する。\n",
        "# Illustrate the probability mass function of the binomial distribution generated.\n",
        "x_set = np.arange(0, n + 1)\n",
        "plt.plot(x_set, rv1.pmf(x_set), \"bo-\")\n",
        "plt.plot(x_set, rv2.pmf(x_set), \"ro-\")\n",
        "plt.plot(x_set, rv3.pmf(x_set), \"go-\")\n",
        "plt.ylabel(\"確率\")\n",
        "plt.xlabel(\"変数\")"
      ]
    },
    {
      "cell_type": "markdown",
      "metadata": {
        "id": "2gQ9GNwwDyS2"
      },
      "source": [
        "## ポアソン分布\n"
      ]
    },
    {
      "cell_type": "code",
      "execution_count": null,
      "metadata": {
        "id": "UFIEIfPxDyS2"
      },
      "outputs": [],
      "source": [
        "# 練習7 単位時間当たりの平均生起回数が1回の場合のポアソン分布の確率分布を生成する。\n",
        "# Exercise 7 Generate a probability distribution for a Poisson distribution with an mean number of occurrences per unit time of one.\n",
        "mu = 1\n",
        "rv = stats.poisson(mu)"
      ]
    },
    {
      "cell_type": "code",
      "execution_count": null,
      "metadata": {
        "id": "IdvpPfyIDyS2"
      },
      "outputs": [],
      "source": [
        "# 練習8 ポアソン分布の確率質量関数を図示する（生起回数の範囲は0から10回とする）。\n",
        "# Exercise 8 Illustrate the probability mass function of the Poisson distribution (the range of the number of occurrences is 0 to 10).\n",
        "x_set = np.arange(0, 11)\n",
        "plt.plot(x_set, rv.pmf(x_set), \"bo\")\n",
        "plt.vlines(x_set, 0, rv.pmf(x_set), colors=\"b\")\n",
        "plt.ylabel(\"確率\")\n",
        "plt.xlabel(\"生起回数\")"
      ]
    },
    {
      "cell_type": "code",
      "execution_count": null,
      "metadata": {
        "id": "D9i6pXrRDyS2"
      },
      "outputs": [],
      "source": [
        "# 練習9 ポアソン分布の平均値、分散、標準偏差を計算する。\n",
        "# Exercise 9 Calculate the mean, variance, and standard deviation of the Poisson distribution.\n",
        "mean = rv.mean()\n",
        "var = rv.var()\n",
        "std = rv.std()\n",
        "print(f\"平均値：{mean}\")\n",
        "print(f\"分散：{var}\")\n",
        "print(f\"標準偏差{std}\")"
      ]
    },
    {
      "cell_type": "code",
      "execution_count": null,
      "metadata": {
        "id": "62RZqWcQDyS2"
      },
      "outputs": [],
      "source": [
        "# 複数の条件でポアソン分布を生成する。\n",
        "# Generate Poisson distribution with multiple conditions.\n",
        "n1 = 1\n",
        "n2 = 2\n",
        "n3 = 3\n",
        "rv1 = stats.poisson(n1)\n",
        "rv2 = stats.poisson(n2)\n",
        "rv3 = stats.poisson(n3)"
      ]
    },
    {
      "cell_type": "code",
      "execution_count": null,
      "metadata": {
        "id": "nEM1cWjwDyS2"
      },
      "outputs": [],
      "source": [
        "# 生成したポアソン分布の確率質量関数を図示する。\n",
        "# Illustrate the probability mass function of the generated Poisson distribution.\n",
        "x_set = np.arange(0, 11)\n",
        "plt.plot(x_set, rv1.pmf(x_set), \"bo-\")\n",
        "plt.plot(x_set, rv2.pmf(x_set), \"ro-\")\n",
        "plt.plot(x_set, rv3.pmf(x_set), \"go-\")\n",
        "plt.ylabel(\"確率\")\n",
        "plt.xlabel(\"生起回数\")"
      ]
    }
  ],
  "metadata": {
    "kernelspec": {
      "display_name": "Python 3 (ipykernel)",
      "language": "python",
      "name": "python3"
    },
    "language_info": {
      "codemirror_mode": {
        "name": "ipython",
        "version": 3
      },
      "file_extension": ".py",
      "mimetype": "text/x-python",
      "name": "python",
      "nbconvert_exporter": "python",
      "pygments_lexer": "ipython3",
      "version": "3.10.14"
    },
    "colab": {
      "provenance": [],
      "include_colab_link": true
    }
  },
  "nbformat": 4,
  "nbformat_minor": 0
}